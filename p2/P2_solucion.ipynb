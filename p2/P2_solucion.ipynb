{
 "cells": [
  {
   "cell_type": "markdown",
   "id": "79a80f76",
   "metadata": {},
   "source": []
  },
  {
   "cell_type": "code",
   "execution_count": 18,
   "id": "62b3ec2b",
   "metadata": {},
   "outputs": [],
   "source": [
    "# Carga de librerías necesarias\n",
    "import numpy as np\n",
    "import sympy as sp\n",
    "import matplotlib.pyplot as plt\n",
    "import matplotlib.patches as patches ## para los rectangulos de las graficas\n",
    "from random import random\n",
    "from scipy.integrate import quad, dblquad, tplquad ## para el ejercicio 10"
   ]
  },
  {
   "cell_type": "markdown",
   "id": "95d9a30f",
   "metadata": {},
   "source": [
    "> **Ejercicio 1:** Pruebe ahora a repetir el mismo proceso, pero con los datos de interpolación  \n",
    "> \n",
    "> a) $(a-h,f(a-h))$ y $(a,f(a))$,\n",
    "> \n",
    "> b) $(a-h,f(a-h))$ y $(a+h,f(a+h))$. \n",
    "> \n",
    "> ¿Qué fórmulas de derivación numérica se obtiene en cada caso?"
   ]
  },
  {
   "cell_type": "code",
   "execution_count": 19,
   "id": "99e60e4a",
   "metadata": {},
   "outputs": [
    {
     "name": "stdout",
     "output_type": "stream",
     "text": [
      "----------------diferencia regresiva-------------------\n"
     ]
    },
    {
     "data": {
      "text/latex": [
       "$\\displaystyle \\frac{f{\\left(a \\right)} - f{\\left(a - h \\right)}}{h}$"
      ],
      "text/plain": [
       "(f(a) - f(a - h))/h"
      ]
     },
     "execution_count": 19,
     "metadata": {},
     "output_type": "execute_result"
    }
   ],
   "source": [
    "f = sp.Function('f')                # Crea función simbólica\n",
    "a,h = sp.symbols('a,h')\n",
    "x_values = [a-h,a]                  # Intervalo simbólico, lista que contiene variables simbólicas\n",
    "y_values = [f(x_values[0]),f(x_values[1])]\n",
    "x = sp.Symbol('x')\n",
    "p = (y_values[1]-y_values[0])/(x_values[1]-x_values[0])*(x-x_values[0])+y_values[0]\n",
    "p.subs({x:x_values[0]}),p.subs({x:x_values[1]})\n",
    "print(\"----------------diferencia regresiva-------------------\")\n",
    "sp.diff(p,x) ## vemos que se trata de la diferencia regresiva\n",
    "\n",
    "\n",
    "\n"
   ]
  },
  {
   "cell_type": "code",
   "execution_count": 20,
   "id": "42a19c76",
   "metadata": {},
   "outputs": [
    {
     "name": "stdout",
     "output_type": "stream",
     "text": [
      "----------------diferencia centrada-------------------\n"
     ]
    },
    {
     "data": {
      "text/latex": [
       "$\\displaystyle \\frac{- f{\\left(a - h \\right)} + f{\\left(a + h \\right)}}{2 h}$"
      ],
      "text/plain": [
       "(-f(a - h) + f(a + h))/(2*h)"
      ]
     },
     "execution_count": 20,
     "metadata": {},
     "output_type": "execute_result"
    }
   ],
   "source": [
    "x1_values = [a-h,a+h]    \n",
    "y1_values = [f(x1_values[0]),f(x1_values[1])]\n",
    "p1 = (y1_values[1]-y1_values[0])/(x1_values[1]-x1_values[0])*(x-x1_values[0])+y1_values[0]\n",
    "p1.subs({x:x1_values[0]}),p1.subs({x:x1_values[1]})\n",
    "print(\"----------------diferencia centrada-------------------\")\n",
    "sp.diff(p1,x) ## vemos que se trata de la diferencia centrada\n"
   ]
  },
  {
   "cell_type": "markdown",
   "id": "04c33ffe",
   "metadata": {},
   "source": [
    "> **Ejercicio 2:** Codifica una función para calcular la fórmula de derivación de tipo interpolatorio obtenida al derivar el polinomio interpolador en una lista de nodos que acepte como argumento. Añade un argumento opcional que sea el orden de la derivada a calcular. Comprueba el correcto funcionamiento de esta función con los ejemplos mostrados hasta el momento."
   ]
  },
  {
   "cell_type": "code",
   "execution_count": 21,
   "id": "fee42286",
   "metadata": {},
   "outputs": [
    {
     "name": "stdout",
     "output_type": "stream",
     "text": [
      "-------------diferencia regresiva-----------------\n"
     ]
    },
    {
     "data": {
      "text/latex": [
       "$\\displaystyle \\frac{f{\\left(a \\right)}}{h} - \\frac{f{\\left(a - h \\right)}}{h}$"
      ],
      "text/plain": [
       "f(a)/h - f(a - h)/h"
      ]
     },
     "metadata": {},
     "output_type": "display_data"
    },
    {
     "name": "stdout",
     "output_type": "stream",
     "text": [
      "-------------diferencia progresiva-----------------\n"
     ]
    },
    {
     "data": {
      "text/latex": [
       "$\\displaystyle - \\frac{f{\\left(a \\right)}}{h} + \\frac{f{\\left(a + h \\right)}}{h}$"
      ],
      "text/plain": [
       "-f(a)/h + f(a + h)/h"
      ]
     },
     "metadata": {},
     "output_type": "display_data"
    },
    {
     "name": "stdout",
     "output_type": "stream",
     "text": [
      "-------------diferencia centrada-----------------\n"
     ]
    },
    {
     "data": {
      "text/latex": [
       "$\\displaystyle - \\frac{f{\\left(a - h \\right)}}{2 h} + \\frac{f{\\left(a + h \\right)}}{2 h}$"
      ],
      "text/plain": [
       "-f(a - h)/(2*h) + f(a + h)/(2*h)"
      ]
     },
     "metadata": {},
     "output_type": "display_data"
    },
    {
     "name": "stdout",
     "output_type": "stream",
     "text": [
      "-------------centrada con tres nodos para f''-----------------\n"
     ]
    },
    {
     "data": {
      "text/latex": [
       "$\\displaystyle \\frac{- 2 f{\\left(a \\right)} + f{\\left(a - h \\right)} + f{\\left(a + h \\right)}}{h^{2}}$"
      ],
      "text/plain": [
       "(-2*f(a) + f(a - h) + f(a + h))/h**2"
      ]
     },
     "metadata": {},
     "output_type": "display_data"
    },
    {
     "name": "stdout",
     "output_type": "stream",
     "text": [
      "-------------descentrada con tres nodos para f'-----------------\n"
     ]
    },
    {
     "data": {
      "text/latex": [
       "$\\displaystyle \\frac{f{\\left(a \\right)} - 2 f{\\left(a + h \\right)} + f{\\left(a + 2 h \\right)}}{h^{2}}$"
      ],
      "text/plain": [
       "(f(a) - 2*f(a + h) + f(a + 2*h))/h**2"
      ]
     },
     "metadata": {},
     "output_type": "display_data"
    }
   ],
   "source": [
    "def calcula_formula_interp(x_values, orden):\n",
    "    f = sp.Function('f') \n",
    "    x = sp.Symbol('x')\n",
    "    \n",
    "    x_values = [sp.sympify(xi) for xi in x_values] # uso cada nodo como una expresion simbolica\n",
    "    p = 0\n",
    "    for k in range(len(x_values)):\n",
    "        lk = 1\n",
    "        for i in range(len(x_values)):\n",
    "            if i != k:\n",
    "                lk *= (x - x_values[i])/(x_values[k] - x_values[i])\n",
    "        p += f(x_values[k]) * lk\n",
    "    p = sp.diff(p, x,orden)\n",
    "    return p\n",
    "\n",
    "print(\"-------------diferencia regresiva-----------------\")\n",
    "p = calcula_formula_interp(['a','a-h'],1)\n",
    "display(p)\n",
    "print(\"-------------diferencia progresiva-----------------\")\n",
    "p = calcula_formula_interp(['a','a+h'],1)\n",
    "display(p)\n",
    "print(\"-------------diferencia centrada-----------------\")\n",
    "p1 = calcula_formula_interp(['a-h','a+h'],1)\n",
    "display(p1)\n",
    "\n",
    "print(\"-------------centrada con tres nodos para f''-----------------\")\n",
    "p1 = calcula_formula_interp(['a-h','a','a+h'],2)\n",
    "display(p1)\n",
    "print(\"-------------descentrada con tres nodos para f'-----------------\")\n",
    "p1 = calcula_formula_interp(['a','a+h','a+2*h'],2)\n",
    "display(sp.simplify(p1))\n"
   ]
  },
  {
   "cell_type": "markdown",
   "id": "60960e0d",
   "metadata": {},
   "source": [
    "> **Ejercicio 3**: Repita este procedimiento con la fórmula para la segunda derivada\n",
    "> $$\n",
    "> f''(a) \\approx \\frac{f(a+h)-2f(a)+f(a-h)}{h^2}\n",
    "> $$\n",
    "> y compruebe que tiene orden de aproximación 2."
   ]
  },
  {
   "cell_type": "code",
   "execution_count": 22,
   "id": "b3fe6b0c",
   "metadata": {},
   "outputs": [
    {
     "name": "stdout",
     "output_type": "stream",
     "text": [
      "-------------Valores exactos de la derviada segunda en un punto-----------------\n",
      "[0, 0, 2, 6*a, 12*a**2, 20*a**3, 30*a**4]\n",
      "-------------Valores aproximados de la derviada segunda en un punto-----------------\n",
      "[0, 0, 2, 6*a, 12*a**2 + 2*h**2, 10*a*(2*a**2 + h**2), (-2*a**6 + (a - h)**6 + (a + h)**6)/h**2]\n",
      "-------------Diferencia de valores-----------------\n",
      "[0, 0, 0, 0, 2*h**2, -20*a**3 + 10*a*(2*a**2 + h**2), -30*a**4 + (-2*a**6 + (a - h)**6 + (a + h)**6)/h**2]\n"
     ]
    }
   ],
   "source": [
    "## primera manera , viendo la diferencia entre x^i y f''(x^i) para i = 1,2,3,....n\n",
    "\n",
    "def formula(f):\n",
    "    return (f(a+h)-2*f(a) + f(a-h))/h**2\n",
    "\n",
    "f = sp.Function('f')\n",
    "formula(f)\n",
    "orden =7\n",
    "valoresexactos =[sp.diff(x**i,x,2).subs({x:a}) for i in range(orden)]\n",
    "valoresaprox =[formula(lambda x:x**i).simplify() for i in range(orden)]\n",
    "diferencia = [valoresaprox[i] -valoresexactos[i] for i in range(orden)]\n",
    "print(\"-------------Valores exactos de la derviada segunda en un punto-----------------\")\n",
    "print(valoresexactos)\n",
    "print(\"-------------Valores aproximados de la derviada segunda en un punto-----------------\")\n",
    "print(valoresaprox)\n",
    "print(\"-------------Diferencia de valores-----------------\")\n",
    "print(diferencia)"
   ]
  },
  {
   "cell_type": "markdown",
   "id": "bd3e9efc",
   "metadata": {},
   "source": [
    "Podemos ver que esta formula es de orden 3 ya que desde x^0 hasta x^3 la diferencia entre el valor aproximado y el valor real es 0 y en x^4 ya no lo es "
   ]
  },
  {
   "cell_type": "code",
   "execution_count": 23,
   "id": "f0c3567f",
   "metadata": {},
   "outputs": [
    {
     "data": {
      "text/latex": [
       "$\\displaystyle \\frac{h^{2} \\left. \\frac{d^{4}}{d \\xi_{1}^{4}} f{\\left(\\xi_{1} \\right)} \\right|_{\\substack{ \\xi_{1}=a }}}{12} + \\left. \\frac{d^{2}}{d \\xi_{1}^{2}} f{\\left(\\xi_{1} \\right)} \\right|_{\\substack{ \\xi_{1}=a }}$"
      ],
      "text/plain": [
       "h**2*Subs(Derivative(f(_xi_1), (_xi_1, 4)), _xi_1, a)/12 + Subs(Derivative(f(_xi_1), (_xi_1, 2)), _xi_1, a)"
      ]
     },
     "execution_count": 23,
     "metadata": {},
     "output_type": "execute_result"
    }
   ],
   "source": [
    "## Segundo metodo , usando el desarrollo de taylor \n",
    "orden=6\n",
    "fseries =(f(x).series(x,a,orden).removeO())\n",
    "fmas    = fseries.subs({x:(a+h)})           # Polin. Taylor para x=a+h\n",
    "fmenos  = fseries.subs({x:(a-h)})           # Polin. Taylor para x=a-h\n",
    "fsimple = fseries.subs({x:(a)}) ## polin de taylor para x=a\n",
    "\n",
    "## aplico para la formula dada \n",
    "sp.expand((fmas -2*fsimple + fmenos)/h**2)"
   ]
  },
  {
   "cell_type": "markdown",
   "id": "6321edd8",
   "metadata": {},
   "source": [
    "Vemos de nuevo con este metodo que es de orden 3."
   ]
  },
  {
   "cell_type": "markdown",
   "id": "9ef912e8",
   "metadata": {},
   "source": [
    "> **Ejercicio 4:** Utilice la función $f(x) = \\dfrac{e^{\\cos(x)}}{x^2+1}$ y el valor $a=1$ y compruebe que ocurre este mismo hecho. Repita el procedimiento utilizando la fórmula de diferencia centrada en lugar de la de diferencia progresiva y comenta las diferencias observadas.\n"
   ]
  },
  {
   "cell_type": "code",
   "execution_count": 24,
   "id": "a1a9632a",
   "metadata": {},
   "outputs": [
    {
     "name": "stdout",
     "output_type": "stream",
     "text": [
      "---------------------valor exacto--------------\n",
      "-1.58046613519819\n",
      "---------------------valor aproximado cambiando h diferencia progresiva--------------\n",
      "[-0.726346167289936 -1.46062768559165 -1.56825363261489 -1.57924300800927\n",
      " -1.58034380417060 -1.58045390192818 -1.58046491172126 -1.58046601583806\n",
      " -1.58046610243545 -1.58046631337783 -1.58046686848934 -1.58045798670514\n",
      " -1.58051349785637 -1.57873714101697 -1.57651669496772 -1.88737914186277 0\n",
      " 0 0 0 0]\n",
      "---------------------valor aproximado cambiando h diferencia centrada--------------\n",
      "[0.0659583412422579 - 0.5*E -1.58243403445756 -1.58048641463901\n",
      " -1.58046633805259 -1.58046613722651 -1.58046613522034 -1.58046613518703\n",
      " -1.58046613629725 -1.58046612463991 -1.58046614684437 -1.58046631337783\n",
      " -1.58045798670514 -1.58045798670514 -1.57984736404160 -1.57651669496772\n",
      " -1.72084568816899 -0.555111512312578 0 0 0 0]\n",
      "---------------------errores diferencia progresiva--------------\n",
      "[0.854119967908255 0.119838449606543 0.0122125025833004\n",
      " 0.00122312718892359 0.000122331027588407 1.22332700112082e-5\n",
      " 1.22347693376490e-6 1.19360135775182e-7 3.27627398544195e-8\n",
      " -1.78179634824360e-7 -7.33291147136939e-7 8.14849304986431e-6\n",
      " -4.73626581813935e-5 0.00172899418121886 0.00394944023046917\n",
      " -0.306913006664574 1.58046613519819 1.58046613519819 1.58046613519819\n",
      " 1.58046613519819 1.58046613519819]\n",
      "---------------------errores diferencia centrada--------------\n",
      "[1.64642447644045 - 0.5*E -0.00196789925936902 -2.02794408181717e-5\n",
      " -2.02854397057806e-7 -2.02831906825907e-9 -2.21458407168029e-11\n",
      " 1.11606279773468e-11 -1.09906239664781e-9 1.05582793619163e-8\n",
      " -1.16461811305868e-8 -1.78179634824360e-7 8.14849304986431e-6\n",
      " 8.14849304986431e-6 0.000618771156593700 0.00394944023046917\n",
      " -0.140379552970801 1.02535462288561 1.58046613519819 1.58046613519819\n",
      " 1.58046613519819 1.58046613519819]\n"
     ]
    }
   ],
   "source": [
    "\n",
    "def f(x):\n",
    "    return sp.exp(sp.cos(x))/(x**2 + 1)\n",
    "a= 1.\n",
    "\n",
    "derivadaf = sp.diff(f(x),x)\n",
    "valor=derivadaf.subs({x:a})\n",
    "print('---------------------valor exacto--------------')\n",
    "print(valor)\n",
    "\n",
    "\n",
    "n=20 # Calculemos aproximaciones, mediante una fórmula numérica de la derivada primera progresiva\n",
    "dersnum = np.array([(f(a+10**(-j))-f(a))/(10**(-j)) for j in range(n+1)])\n",
    "print('---------------------valor aproximado cambiando h diferencia progresiva--------------')\n",
    "print(dersnum)# con h desde 10^0 hasta el valor 10^(-n).\n",
    "errores1=np.array(dersnum)-valor\n",
    "# usando formula de la diferencia centrada\n",
    "n=20 # Calculemos aproximaciones, mediante una fórmula numérica de la derivada primera progresiva\n",
    "dersnum = np.array([(f(a+10**(-j))-f(a-10**(-j)))/(2*10**(-j)) for j in range(n+1)])\n",
    "print('---------------------valor aproximado cambiando h diferencia centrada--------------')\n",
    "print(dersnum)  # con h desde 10^0 hasta el valor 10^(-n).\n",
    "errores2=np.array(dersnum)-valor\n",
    "\n",
    "print('---------------------errores diferencia progresiva--------------')\n",
    "print(errores1)\n",
    "print('---------------------errores diferencia centrada--------------')\n",
    "print(errores2)\n"
   ]
  },
  {
   "cell_type": "markdown",
   "id": "0e907d2d",
   "metadata": {},
   "source": [
    "\n",
    "> **Ejercicio 5 (Implementación numérica de las fórmulas de derivación):** Implementa una función que acepte como argumentos una función en versión numérica `f`, un valor `a`, un valor `h`, un entero opcional `n` y un cuarto argumento que sea la fórmula de derivación numérica utilizada. La función deberá calcular la derivada `n`-ésima de la función `f` en el punto `a` utilizando la fórmula y el valor de `h` indicados. Las posibles fórmulas utilizadas deben incluir, al menos: diferencia regresiva, diferencia progresiva, diferencia centrada y diferencia centrada con 5 nodos. Para la función $$f(x) = \\sin(\\log(x^2+1)),$$ calcula el valor de $f'(-1)$, primero derivando una versión simbólica y obteniendo el valor exacto y después utilizando la función implementada con distintos valores de `h` y distintas fórmulas y comprueba las diferencias en la aproximación en cada caso."
   ]
  },
  {
   "cell_type": "code",
   "execution_count": 25,
   "id": "3aab7897",
   "metadata": {},
   "outputs": [
    {
     "name": "stdout",
     "output_type": "stream",
     "text": [
      "-----------diferencia progresiva---------\n",
      "Resultado: -0.7724078367032594 Error: 0.0031689353392873043\n",
      "-----------diferencia regresiva---------\n",
      "Resultado: -0.7660186824749893 Error: 0.0032202188889828287\n",
      "-----------diferencia centrada---------\n",
      "Resultado: -0.7692132595891243 Error: 2.56417748477622e-05\n",
      "-----------diferencia centrada 5 nodos---------\n",
      "Resultado: -0.769238903275854 Error: 1.9118818750385458e-09\n",
      "-----------valor exacto------------\n",
      "-0.7692389013639721\n"
     ]
    }
   ],
   "source": [
    "\n",
    "def derivada_numerica(f, a, h, n=1, formula=\"progresiva\"):\n",
    "\n",
    "\n",
    "    # Para n>1, aplica recursivamente la fórmula de derivación de orden 1\n",
    "    if n == 1:\n",
    "        if formula == 'progresiva':\n",
    "            return (f(a + h) - f(a)) / h\n",
    "        elif formula == 'regresiva':\n",
    "            return (f(a) - f(a - h)) / h\n",
    "        elif formula == 'centrada':\n",
    "            return (f(a + h) - f(a - h)) / (2*h)\n",
    "        elif formula == 'centrada5':\n",
    "            # Fórmula centrada de 5 puntos para la primera derivada\n",
    "            return (f(a - 2*h) - 8*f(a - h) + 8*f(a + h) - f(a + 2*h)) / (12*h)\n",
    "    else:\n",
    "        # Si no es orden 1 se calcula con recursion \n",
    "        def g(x):\n",
    "            return derivada_numerica(f, x, h, n-1, formula)\n",
    "        return derivada_numerica(g, a, h, 1, formula)\n",
    "\n",
    "\n",
    "def f(x):\n",
    "    return np.sin(np.log(x**2 + 1))\n",
    "\n",
    "\n",
    "x = sp.Symbol('x')\n",
    "f_sym = sp.sin(sp.log(x**2 + 1))\n",
    "df_sym = sp.diff(f_sym, x,1)\n",
    "valor_exacto = float(df_sym.subs(x, -1))\n",
    "\n",
    "# Aproximaciones con distintas fórmulas y h\n",
    "h = 0.01\n",
    "aprox_prog = derivada_numerica(f, -1, h, n=1, formula='progresiva')\n",
    "aprox_reg = derivada_numerica(f, -1, h, n=1, formula='regresiva')\n",
    "aprox_cent = derivada_numerica(f, -1, h, n=1, formula='centrada')\n",
    "aprox_cent5 = derivada_numerica(f, -1, h, n=1, formula='centrada5')\n",
    "print(\"-----------diferencia progresiva---------\")\n",
    "print(\"Resultado:\", aprox_prog, \"Error:\",abs( aprox_prog - valor_exacto))\n",
    "print(\"-----------diferencia regresiva---------\")\n",
    "print(\"Resultado:\", aprox_reg, \"Error:\", abs(aprox_reg - valor_exacto))\n",
    "print(\"-----------diferencia centrada---------\")\n",
    "print(\"Resultado:\", aprox_cent, \"Error:\", abs(aprox_cent - valor_exacto))\n",
    "print(\"-----------diferencia centrada 5 nodos---------\")\n",
    "print(\"Resultado:\", aprox_cent5, \"Error:\", abs(aprox_cent5 - valor_exacto))\n",
    "print(\"-----------valor exacto------------\")\n",
    "print(valor_exacto)"
   ]
  },
  {
   "cell_type": "markdown",
   "id": "fc701ec3",
   "metadata": {},
   "source": [
    "Pruebo ahora con distintos valores de h"
   ]
  },
  {
   "cell_type": "code",
   "execution_count": 26,
   "id": "2851ebe5",
   "metadata": {},
   "outputs": [
    {
     "name": "stdout",
     "output_type": "stream",
     "text": [
      "-----h=0.1---\n",
      "-----------diferencia progresiva---------\n",
      "Resultado: -0.7983892629698153 Error: 0.029150361605843167\n",
      "-----------diferencia regresiva---------\n",
      "Resultado: -0.7349508034049146 Error: 0.03428809795905752\n",
      "-----------diferencia centrada---------\n",
      "Resultado: -0.7666700331873649 Error: 0.0025688681766071753\n",
      "-----------diferencia centrada 5 nodos---------\n",
      "Resultado: -0.7692571660157531 Error: 1.8264651781008112e-05\n",
      "-----------valor exacto------------\n",
      "-0.7692389013639721\n",
      "-----h=0.1---\n",
      "-----------diferencia progresiva---------\n",
      "Resultado: -0.7695581253598371 Error: 0.0003192239958650367\n",
      "-----------diferencia regresiva---------\n",
      "Resultado: -0.7689191645420257 Error: 0.00031973682194641473\n",
      "-----------diferencia centrada---------\n",
      "Resultado: -0.7692386449509314 Error: 2.564130406890186e-07\n",
      "-----------diferencia centrada 5 nodos---------\n",
      "Resultado: -0.7692389013641554 Error: 1.8329782136561334e-13\n",
      "-----------valor exacto------------\n",
      "-0.7692389013639721\n"
     ]
    }
   ],
   "source": [
    "print(\"-----h=0.1---\")\n",
    "h=0.1\n",
    "aprox_prog = derivada_numerica(f, -1, h, n=1, formula='progresiva')\n",
    "aprox_reg = derivada_numerica(f, -1, h, n=1, formula='regresiva')\n",
    "aprox_cent = derivada_numerica(f, -1, h, n=1, formula='centrada')\n",
    "aprox_cent5 = derivada_numerica(f, -1, h, n=1, formula='centrada5')\n",
    "print(\"-----------diferencia progresiva---------\")\n",
    "print(\"Resultado:\", aprox_prog, \"Error:\",abs( aprox_prog - valor_exacto))\n",
    "print(\"-----------diferencia regresiva---------\")\n",
    "print(\"Resultado:\", aprox_reg, \"Error:\", abs(aprox_reg - valor_exacto))\n",
    "print(\"-----------diferencia centrada---------\")\n",
    "print(\"Resultado:\", aprox_cent, \"Error:\", abs(aprox_cent - valor_exacto))\n",
    "print(\"-----------diferencia centrada 5 nodos---------\")\n",
    "print(\"Resultado:\", aprox_cent5, \"Error:\", abs(aprox_cent5 - valor_exacto))\n",
    "print(\"-----------valor exacto------------\")\n",
    "print(valor_exacto)\n",
    "print(\"-----h=0.1---\")\n",
    "h=0.001\n",
    "aprox_prog = derivada_numerica(f, -1, h, n=1, formula='progresiva')\n",
    "aprox_reg = derivada_numerica(f, -1, h, n=1, formula='regresiva')\n",
    "aprox_cent = derivada_numerica(f, -1, h, n=1, formula='centrada')\n",
    "aprox_cent5 = derivada_numerica(f, -1, h, n=1, formula='centrada5')\n",
    "print(\"-----------diferencia progresiva---------\")\n",
    "print(\"Resultado:\", aprox_prog, \"Error:\",abs( aprox_prog - valor_exacto))\n",
    "print(\"-----------diferencia regresiva---------\")\n",
    "print(\"Resultado:\", aprox_reg, \"Error:\", abs(aprox_reg - valor_exacto))\n",
    "print(\"-----------diferencia centrada---------\")\n",
    "print(\"Resultado:\", aprox_cent, \"Error:\", abs(aprox_cent - valor_exacto))\n",
    "print(\"-----------diferencia centrada 5 nodos---------\")\n",
    "print(\"Resultado:\", aprox_cent5, \"Error:\", abs(aprox_cent5 - valor_exacto))\n",
    "print(\"-----------valor exacto------------\")\n",
    "print(valor_exacto)"
   ]
  },
  {
   "cell_type": "markdown",
   "id": "da6e54e3",
   "metadata": {},
   "source": [
    "podemos ver que cuanto mas pequenio es h mejor aproximan la formulas al valor exacto\n"
   ]
  },
  {
   "cell_type": "markdown",
   "id": "5bef7a32",
   "metadata": {},
   "source": [
    "> **Ejercicio 6:** Siguiendo el modelo y el código proporcionado para la fórmula de los rectángulos a la izquierda, codifique las fórmulas compuestas de los rectángulos a la derecha y centrados. Calcule con estas dos fórmulas la aproximación de $\\displaystyle\\int_0^1 (x^2+1)dx$, el error cometido y represente al menos una de las dos gráficamente."
   ]
  },
  {
   "cell_type": "code",
   "execution_count": 27,
   "id": "546c730d",
   "metadata": {},
   "outputs": [
    {
     "name": "stdout",
     "output_type": "stream",
     "text": [
      "-----------------Valor exacto----------------\n",
      "1.33333333333333\n",
      "-----------------Rectangulo derecha----------------\n",
      "1.385\n",
      "-----------------Error rectangulo derecha----------\n",
      "0.05166666666666675\n",
      "-----------------Rectangulo centrada----------------\n",
      "1.3325\n",
      "-----------------Error rectangulo centrada----------\n",
      "0.0008333333333332416\n"
     ]
    },
    {
     "data": {
      "image/png": "[encoded data removed]",
      "text/plain": [
       "<Figure size 800x600 with 1 Axes>"
      ]
     },
     "metadata": {},
     "output_type": "display_data"
    }
   ],
   "source": [
    "def formula_rectangulo_derecha(f, a, b, n):\n",
    "    \n",
    "    h = (b - a) / n\n",
    "    nodos = np.linspace(a, b, n+1)\n",
    "    return h * np.sum(f(nodos[1:]))\n",
    "\n",
    "def formula_rectangulo_centrado(f, a, b, n):\n",
    "    \n",
    "    h = (b - a) / n\n",
    "    nodos = np.linspace(a, b, n+1)\n",
    "    puntos_medios = (nodos[:-1] + nodos[1:]) / 2\n",
    "    return h * np.sum(f(puntos_medios))\n",
    "\n",
    "\n",
    "def f(x):\n",
    "    return x**2 + 1\n",
    "\n",
    "a, b = 0, 1\n",
    "valor_exacto = sp.integrate(f(sp.Symbol('x')), (sp.Symbol('x'), a, b))\n",
    "\n",
    "n = 10  \n",
    "\n",
    "# Aproximaciones\n",
    "aprox_derecha = formula_rectangulo_derecha(f, a, b, n)\n",
    "aprox_centrada = formula_rectangulo_centrado(f, a, b, n)\n",
    "\n",
    "# Errores\n",
    "error_derecha = abs(float(valor_exacto) - aprox_derecha)\n",
    "error_centrada = abs(float(valor_exacto) - aprox_centrada)\n",
    "print(\"-----------------Valor exacto----------------\")\n",
    "print(valor_exacto.evalf())\n",
    "print(\"-----------------Rectangulo derecha----------------\")\n",
    "print(aprox_derecha)\n",
    "print(\"-----------------Error rectangulo derecha----------\")\n",
    "print(error_derecha)\n",
    "print(\"-----------------Rectangulo centrada----------------\")\n",
    "print(aprox_centrada)\n",
    "print(\"-----------------Error rectangulo centrada----------\")\n",
    "print(error_centrada)\n",
    "\n",
    "\n",
    "\n",
    "num_values = 100\n",
    "x_values = np.linspace(a, b, num_values)\n",
    "y_values = f(x_values)\n",
    "nodos = np.linspace(a, b, n+1)\n",
    "puntos_medios = (nodos[:-1] + nodos[1:]) / 2\n",
    "y_medios = f(puntos_medios)\n",
    "\n",
    "fig, ax = plt.subplots(figsize=(8, 6))\n",
    "ax.plot(x_values, y_values, 'k', label='Función integrando')\n",
    "ax.plot(puntos_medios, y_medios, 'ro')\n",
    "\n",
    "for i in range(n):\n",
    "    ax.add_patch(patches.Rectangle((nodos[i], 0),nodos[i+1] - nodos[i],y_medios[i]))\n",
    "\n",
    "ax.legend()\n",
    "ax.set_xlabel('$x$')\n",
    "ax.set_ylabel('$y$')\n",
    "ax.set_title('Fórmula compuesta de los rectangulos centrados')\n",
    "plt.show()"
   ]
  },
  {
   "cell_type": "markdown",
   "id": "4d9816ea",
   "metadata": {},
   "source": [
    "> **Ejercicio 7:** Implemente una función que calcule la integral de una función $f$ en el intervalo $[a,b]$ usando la fórmula de Simpson compuesta, parametrizando también el número de subintervalos utilizados (se premia la eficiencia). Represente gráficamente la fórmula de Simpson compuesta análogamente a la representación mostrada para la fórmula de los trapecios compuesta."
   ]
  },
  {
   "cell_type": "code",
   "execution_count": 28,
   "id": "1b9e0625",
   "metadata": {},
   "outputs": [
    {
     "name": "stderr",
     "output_type": "stream",
     "text": [
      "/tmp/ipykernel_27774/213139035.py:32: UserWarning: No artists with labels found to put in legend.  Note that artists whose label start with an underscore are ignored when legend() is called with no argument.\n",
      "  ax.legend(loc=9)\n"
     ]
    },
    {
     "data": {
      "image/png": "[encoded data removed]",
      "text/plain": [
       "<Figure size 800x800 with 1 Axes>"
      ]
     },
     "metadata": {},
     "output_type": "display_data"
    }
   ],
   "source": [
    "def formula_simpson_compuesta(f, a, b, n):\n",
    "\n",
    "    h = (b - a) / n\n",
    "    nodos = np.linspace(a, b, n + 1)\n",
    "    y = f(nodos)\n",
    "    S = y[0] + y[-1] + 4 * np.sum(y[1:-1:2]) + 2 * np.sum(y[2:-2:2])\n",
    "    return (h / 3) * S\n",
    "# Ejemplo de uso y comparación gráfica\n",
    "def f(x):\n",
    "    return x**2 + 1\n",
    "a, b = 0, 1\n",
    "num_values = 100\n",
    "num_nodos = 16  # Debe ser par para Simpson compuesta\n",
    "x_values = np.linspace(float(a), float(b), num_values)\n",
    "y_values = f(x_values)\n",
    "x_nodos = np.linspace(a, b, num_nodos + 1)\n",
    "y_nodos = f(x_nodos)\n",
    "\n",
    "fig, ax = plt.subplots(figsize=(8, 8))\n",
    "ax.plot(x_values, y_values, 'k')\n",
    "\n",
    "# Dibujar parábolas entre cada par de subintervalos\n",
    "for k in range(0, num_nodos, 2):\n",
    "    zz = np.linspace(float(x_nodos[k]), float(x_nodos[k+2]), num_values)\n",
    "    # Ajuste parabólico por 3 puntos\n",
    "    coef = np.polyfit(x_nodos[k:k+3], y_nodos[k:k+3], 2)\n",
    "    yk = np.polyval(coef, zz)\n",
    "    ax.fill_between(zz, 0, yk)\n",
    "\n",
    "ax.plot(x_nodos, y_nodos, 'ro')\n",
    "\n",
    "ax.legend(loc=9)\n",
    "ax.set_xlabel('$x$', fontsize=18)\n",
    "ax.set_ylabel('$y$', fontsize=18)\n",
    "ax.set_title('Fórmula de Simpson compuesta')\n",
    "plt.show()"
   ]
  },
  {
   "cell_type": "markdown",
   "id": "1b761d30",
   "metadata": {},
   "source": [
    ">**Ejercicio 8:** Realice una comparativa entre los errores cometidos al aproximar funciones potencias sucesivas $x^i$, con $i=1,2,3,\\ldots$ en el intervalo $[0,1]$ mediante las fórmulas de los trapecios y de Simpson compuestas con diferentes valores de $h$; e inducir de ahí, los posibles órdenes de exactitud (a partir de los valores de $i$ que proporcionen valores exactos de la integral). No deje de tener en cuenta los posibles errores de redondeo, inevitables en todo cálculo realizado con ordenador."
   ]
  },
  {
   "cell_type": "code",
   "execution_count": 29,
   "id": "f37e6432",
   "metadata": {},
   "outputs": [],
   "source": [
    "\n",
    "def formula_trapecios_compuesta(f,a,b,num_nodos):\n",
    "    \"\"\"fórmula compuesta de los trapecios con partición uniforme\"\"\"\n",
    "    h = (b-a)/num_nodos\n",
    "    nodos = np.linspace(a, b, num_nodos+1)  # Genera los nodos de integración (incluyendo los extremos)\n",
    "    # Otra opción sería\n",
    "    # nodos = np.array([a + i*h for i in range(num_nodos+1)])\n",
    "\n",
    "    return h/2*(f(a)+2*np.sum(f(nodos[1:-1]))+f(b))\n",
    "    # Otra posible implementación sería\n",
    "    # return h/2*(f(a)+2*sum([f(a+i*h) for i in range(1,num_nodos)])+f(b))\n",
    "\n",
    "\n",
    "# Intervalo y grados a probar\n",
    "a, b = 0, 1\n",
    "grados = np.arange(0, 7) # exponente de x\n",
    "n_values = [10, 20, 40]     #valores de n para h=b-a/n\n",
    "\n",
    "errores_trapecio = []\n",
    "errores_simpson = []\n",
    "errores_comparados_st=[]\n",
    "for n in n_values:\n",
    "    err_t = []\n",
    "    err_s = []\n",
    "    err_st =[]\n",
    "    for i in grados:\n",
    "        f = lambda x: x**i\n",
    "        x = sp.Symbol('x')\n",
    "        valor_exacto = float(sp.integrate(x**i, (x, a, b)))\n",
    "        aprox_trap = float(formula_trapecios_compuesta(f, a, b, n))\n",
    "        aprox_simp = float(formula_simpson_compuesta(f, a, b, n ))\n",
    "        err_t.append(abs(aprox_trap - valor_exacto))\n",
    "        err_s.append(abs(aprox_simp - valor_exacto))\n",
    "        err_st.append(abs(aprox_simp-aprox_trap))\n",
    "    errores_trapecio.append(err_t)\n",
    "    errores_simpson.append(err_s)\n",
    "    errores_comparados_st.append(err_st)\n",
    "\n",
    "\n",
    "\n"
   ]
  },
  {
   "cell_type": "markdown",
   "id": "862fab8d",
   "metadata": {},
   "source": [
    "Tenemos los errores para cada valor de n = 10 ,20 , 40  y cada grado de x desde 0 hasta 7 , veamos ahora cuando la diferencia entre el valor exacto y el aproximado es 0 para saber con que grado es exacta cada formula"
   ]
  },
  {
   "cell_type": "code",
   "execution_count": 30,
   "id": "6fd9148e",
   "metadata": {},
   "outputs": [
    {
     "name": "stdout",
     "output_type": "stream",
     "text": [
      "-----------n=10 => h=0.1-------------------\n",
      "Errores Trapecio vs Exacto:[0.0, 0.0, 0.0016666666666667607, 0.0025000000000000577, 0.0033299999999999996, 0.004158333333333375, 0.004983357142857164]\n",
      "Errores Simpson vs Exacto:[0.0, 0.0, 0.0, 0.0, 1.3333333333337416e-05, 3.333333333338517e-05, 6.61904761905252e-05]\n",
      "Errores Simpson vs Trapecio:[0.0, 0.0, 0.0016666666666667607, 0.0025000000000000577, 0.003316666666666662, 0.00412499999999999, 0.004917166666666639]\n",
      "-----------n=20 => h=0.05-------------------\n",
      "Errores Trapecio vs Exacto :[0.0, 0.0, 0.0004166666666667318, 0.0006250000000000422, 0.0008331250000000456, 0.0010411458333333956, 0.0012489587053571838]\n",
      "Errores Simpson vs Exacto:[0.0, 0.0, 0.0, 0.0, 8.333333333387927e-07, 2.0833333333747373e-06, 4.159226190542098e-06]\n",
      "Errores Simpson vs Trapecio:[0.0, 0.0, 0.0004166666666667318, 0.0006250000000000422, 0.0008322916666667068, 0.0010390625000000209, 0.0012447994791666417]\n",
      "-----------n=40 => h=0.025-------------------\n",
      "Errores Trapecio vs Exacto:[0.0, 0.0, 0.00010416666666673846, 0.00015625000000002442, 0.00020832031250006544, 0.0002603841145834007, 0.000312434901646258]\n",
      "Errores Simpson vs Exacto:[0.0, 0.0, 0.0, 5.551115123125783e-17, 5.208333336836901e-08, 1.3020833339316695e-07, 2.603004092827099e-07]\n",
      "Errores Simpson vs Trapecio:[0.0, 0.0, 0.00010416666666673846, 0.00015624999999996891, 0.00020826822916669707, 0.00026025390625000755, 0.00031217460123697527]\n"
     ]
    }
   ],
   "source": [
    "print(\"-----------n=10 => h=0.1-------------------\")\n",
    "print(f'Errores Trapecio vs Exacto:{errores_trapecio[0]}')\n",
    "print(f'Errores Simpson vs Exacto:{errores_simpson[0]}')\n",
    "print(f'Errores Simpson vs Trapecio:{errores_comparados_st[0]}')\n",
    "print(\"-----------n=20 => h=0.05-------------------\")\n",
    "print(f'Errores Trapecio vs Exacto :{errores_trapecio[1]}')\n",
    "print(f'Errores Simpson vs Exacto:{errores_simpson[1]}')\n",
    "print(f'Errores Simpson vs Trapecio:{errores_comparados_st[1]}')\n",
    "print(\"-----------n=40 => h=0.025-------------------\")\n",
    "print(f'Errores Trapecio vs Exacto:{errores_trapecio[2]}')\n",
    "print(f'Errores Simpson vs Exacto:{errores_simpson[2]}')\n",
    "print(f'Errores Simpson vs Trapecio:{errores_comparados_st[2]}')"
   ]
  },
  {
   "cell_type": "markdown",
   "id": "4d819cbb",
   "metadata": {},
   "source": [
    "En los errores generados por la comparacion entre la formula del trapecio y la solucion exacta \n",
    "vemos que los 2 primeros valores se anulan , los que corresponden a x^0 y x^1 por tanto tenemos que la formula del trapecio compuesta tiene grado de exactitud P1 , en este caso los valores de los errores siguiente no son tan pequenios como para redondearlos a 0 por tanto no los tendremos en cuenta como error de redondeo si no como valor real del error.\n",
    "\n",
    "Vemos que los errores generados por la comparacion entre la formula de simpson y la solucion exacta nos dejan los 4 primeros valores de nuestra comparacion con valor 0 independientemente del valor de n salvo para n =40 donde el 4 valor es un numero muy cercano a 0 pero lo consideraremos 0 ya que tenemos en cuenta los errores de redonde producidos , esto nos deja en conclusion que la formula de simpson tiene grado de exactitud P3 "
   ]
  },
  {
   "cell_type": "markdown",
   "id": "6d2ae190",
   "metadata": {},
   "source": [
    ">**Ejercicio 9:** Programar las técnicas de integración de Romberg y adaptativa, para después aplicarlas a la aproximación de la siguiente integral $$\\int_a^b p(x)\\, dx$$\n",
    ">siendo  $\\;a=\\displaystyle\\min_{0\\leq i\\leq 7}{d_i}$, $\\;b=\\displaystyle\\max_{0\\leq i\\leq 7}{d_i}$ y\n",
    ">$$p(x)=d_0 + d_1 x + d_2 x^2 + d_3 x^3+ d_4 x^4 + d_5 x^5 + d_6 x^6 + d_7 x^7 $$\n",
    ">(siendo $d_0, d_1, \\ldots, d_7$ los dígitos de su DNI, pasaporte o tarjeta de residente)."
   ]
  },
  {
   "cell_type": "code",
   "execution_count": 31,
   "id": "c77dd968",
   "metadata": {},
   "outputs": [
    {
     "name": "stdout",
     "output_type": "stream",
     "text": [
      "-----------Resultado Romberg----------\n",
      "53235302.175\n",
      "-----------Resultado Simpson adaptativo----------\n",
      "53235302.175000004\n",
      "-----------Valor exacto----------\n",
      "53235302.1750000\n"
     ]
    }
   ],
   "source": [
    "\n",
    "d = [7,5,5,7,1,0,7,9] # valores d_i\n",
    "a = min(d)\n",
    "b = max(d)\n",
    "\n",
    "def p(x):\n",
    "    return sum(d[k]*x**k for k in range(8))\n",
    "#Calculo T_n para romberg\n",
    "def Tn(a,b,n,f):\n",
    "    h =(b-a)/n\n",
    "    return (h/2) * (f(a)+2*sum(f(a+i*h) for i in range(1,n) ) +f(b))\n",
    "#Integración de Romberg\n",
    "def romberg(f, a, b, max_iter=10):\n",
    "    R = np.zeros((max_iter, max_iter))\n",
    "    R[0,0] = Tn(a,b,1,f)\n",
    "    for j in range(1, max_iter):\n",
    "        R[j,0] = Tn(a,b,2**j,f)\n",
    "        for k in range(1, j+1):\n",
    "            R[j,k] = (4**k*R[j,k-1] - R[j-1,k-1])/(4**k - 1)\n",
    "\n",
    "    return R[max_iter-1, max_iter-1]\n",
    "\n",
    "# formula de simpson\n",
    "def S(f, a, b):\n",
    "    m = (a + b)/2\n",
    "    return (b - a)/6 * (f(a) + 4*f(m) + f(b))\n",
    "#simpson adaptativo\n",
    "def simpson_adaptativo(f, a, b, tol=1e-8,maxiter=1000):\n",
    "    #recursividad para calcular dependiendo de si se cumple la condicion |S(a,b)-S(a,m)-S(m,b)|<tol\n",
    "    def calculo_recursivo(f, a, b, eps, S_ab):\n",
    "        m = (a + b)/2\n",
    "        S_am = S(f, a, m)\n",
    "        S_mb = S(f, m, b)\n",
    "        if abs(S_am + S_mb - S_ab) < eps:\n",
    "            return S_am + S_mb \n",
    "        return calculo_recursivo(f, a, m, eps/2, S_am) + calculo_recursivo(f, m, b, eps/2, S_mb)\n",
    "    S_ab = S(f, a, b)\n",
    "    return calculo_recursivo(f, a, b, tol, S_ab)\n",
    "\n",
    "\n",
    "\n",
    "\n",
    "\n",
    "print(\"-----------Resultado Romberg----------\")\n",
    "romberg_val = romberg(p,a,b)\n",
    "print(romberg_val)\n",
    "print(\"-----------Resultado Simpson adaptativo----------\")\n",
    "simpson_val = simpson_adaptativo(p, a, b)\n",
    "print(simpson_val)\n",
    "print(\"-----------Valor exacto----------\")\n",
    "x = sp.Symbol('x')\n",
    "p = sum(d[k]*x**k for k in range(len(d)))\n",
    "exacto = sp.integrate(p, (x, a, b))\n",
    "print(exacto.evalf())\n"
   ]
  },
  {
   "cell_type": "markdown",
   "id": "844837dd",
   "metadata": {},
   "source": [
    "> **Ejercicio 10:** Calcule la misma integral del ejercicio 9 pero utilizando la orden `quad` y compare los resultados de la integración Romberg y adaptativa manuales con los de la orden `quad`."
   ]
  },
  {
   "cell_type": "code",
   "execution_count": 32,
   "id": "fd589a16",
   "metadata": {},
   "outputs": [
    {
     "name": "stdout",
     "output_type": "stream",
     "text": [
      "--------------Valor exacto-----------\n",
      "53235302.1750000\n",
      "-----------Resultado Romberg----------\n",
      "53235302.175\n",
      "-----------Resultado Simpson adaptativo----------\n",
      "53235302.175000004\n",
      "-----------Orden quad----------\n",
      "53235302.17500001\n",
      "-----------Comparacion----------\n",
      "Error quad vs romberg: 1.4901161193847656e-08\n",
      "Error quad vs simpson: 7.450580596923828e-09\n"
     ]
    }
   ],
   "source": [
    "d = [7,5,5,7,1,0,7,9] # valores d_i\n",
    "a = min(d)\n",
    "b = max(d)\n",
    "\n",
    "def p(x):\n",
    "    return sum(d[k]*x**k for k in range(8))\n",
    "\n",
    "\n",
    "\n",
    "print(\"--------------Valor exacto-----------\")\n",
    "x = sp.Symbol('x')\n",
    "p_sym = sum(d[k]*x**k for k in range(8))\n",
    "valor_exacto = sp.integrate(p_sym, (x, a, b))\n",
    "print(valor_exacto.evalf())\n",
    "print(\"-----------Resultado Romberg----------\")\n",
    "romberg_val = romberg(p,a,b)\n",
    "print(romberg_val)\n",
    "print(\"-----------Resultado Simpson adaptativo----------\")\n",
    "simpson_val = simpson_adaptativo(p, a, b)\n",
    "print(simpson_val)\n",
    "print(\"-----------Orden quad----------\")\n",
    "valor_quad, error_quad = quad(p, a, b)\n",
    "print(valor_quad)\n",
    "print(\"-----------Comparacion----------\")\n",
    "print(f\"Error quad vs romberg: {abs(valor_quad-romberg_val)}\")\n",
    "print(f\"Error quad vs simpson: {abs(valor_quad-simpson_val)}\")"
   ]
  },
  {
   "cell_type": "markdown",
   "id": "811ddf49",
   "metadata": {},
   "source": [
    "Podemos ver que ambas aproximaciones, tanto la de Romberg como la de Simpson, tienen un resultado muy bueno, ya que el error es mínimo."
   ]
  }
 ],
 "metadata": {
  "kernelspec": {
   "display_name": "venv",
   "language": "python",
   "name": "python3"
  },
  "language_info": {
   "codemirror_mode": {
    "name": "ipython",
    "version": 3
   },
   "file_extension": ".py",
   "mimetype": "text/x-python",
   "name": "python",
   "nbconvert_exporter": "python",
   "pygments_lexer": "ipython3",
   "version": "3.12.3"
  }
 },
 "nbformat": 4,
 "nbformat_minor": 5
}
